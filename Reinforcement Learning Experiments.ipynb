{
 "cells": [
  {
   "cell_type": "markdown",
   "metadata": {},
   "source": [
    "# Reinforcement Learning"
   ]
  },
  {
   "cell_type": "markdown",
   "metadata": {},
   "source": [
    "## GridWorlds\n",
    "\n",
    "This assignment involves finding optimal policies for two grid worlds (CliffWalking and WindyGridWorld) using SARSA and Q learning. Details about WindyGridWorld (Example 6.5) and CliffWalking (Example 6.6) can be found in the following link.\n",
    "    \n",
    "    http://incompleteideas.net/book/RLbook2020.pdf\n",
    "\n",
    "\n",
    "You need gym (version 0.18) and numpy (version 1.20.1) for this assignment. The environment for both problems are provided. \n",
    "\n",
    "For Windy Grid World environemnt you also need the file 'WindyGridWorld.py'. \n",
    "\n",
    "### Task 1: Learning [5 Marks]\n",
    "\n",
    "You only need to write the codes for SARSA and Q-learning algorithms. Then do the learning in both 'CliffWalking' and 'Windy Grid World' environments. \n",
    "\n",
    "### Task 2: Analysis [5 Marks]   \n",
    "\n",
    "1. Calculate the average return across the episodes. It gives you a measure of the performance of the algorithm while learning.  \n",
    "\n",
    "2. Calculate the return after convergence. It gives you a measure of the performance after the learning is completed. \n",
    "\n",
    "3. What do you observe from these results?"
   ]
  },
  {
   "cell_type": "markdown",
   "metadata": {},
   "source": [
    "Install the necessary packages"
   ]
  },
  {
   "cell_type": "code",
   "execution_count": 1,
   "metadata": {},
   "outputs": [
    {
     "name": "stdout",
     "output_type": "stream",
     "text": [
      "Requirement already satisfied: gym==0.18 in /Users/shuihe/opt/anaconda3/lib/python3.8/site-packages (0.18.0)\n",
      "Requirement already satisfied: pyglet<=1.5.0,>=1.4.0 in /Users/shuihe/opt/anaconda3/lib/python3.8/site-packages (from gym==0.18) (1.5.0)\n",
      "Requirement already satisfied: cloudpickle<1.7.0,>=1.2.0 in /Users/shuihe/opt/anaconda3/lib/python3.8/site-packages (from gym==0.18) (1.6.0)\n",
      "Requirement already satisfied: Pillow<=7.2.0 in /Users/shuihe/opt/anaconda3/lib/python3.8/site-packages (from gym==0.18) (7.2.0)\n",
      "Requirement already satisfied: scipy in /Users/shuihe/opt/anaconda3/lib/python3.8/site-packages (from gym==0.18) (1.5.2)\n",
      "Requirement already satisfied: numpy>=1.10.4 in /Users/shuihe/opt/anaconda3/lib/python3.8/site-packages (from gym==0.18) (1.20.1)\n",
      "Requirement already satisfied: future in /Users/shuihe/opt/anaconda3/lib/python3.8/site-packages (from pyglet<=1.5.0,>=1.4.0->gym==0.18) (0.18.2)\n",
      "Requirement already satisfied: numpy==1.20.1 in /Users/shuihe/opt/anaconda3/lib/python3.8/site-packages (1.20.1)\n",
      "Requirement already satisfied: tqdm in /Users/shuihe/opt/anaconda3/lib/python3.8/site-packages (4.55.1)\n"
     ]
    }
   ],
   "source": [
    "!pip install gym==0.18\n",
    "!pip install numpy==1.20.1\n",
    "!pip install tqdm "
   ]
  },
  {
   "cell_type": "markdown",
   "metadata": {},
   "source": [
    "# Task 1: Learning\n",
    "## Task 1a: Learning in CliffWalking Environment"
   ]
  },
  {
   "cell_type": "markdown",
   "metadata": {},
   "source": [
    "### Environment for CliffWalking\n",
    "\n",
    "The board is a 4x12 matrix, with (using NumPy matrix indexing):\n",
    "    [3, 0] as the start at bottom-left\n",
    "    [3, 11] as the goal at bottom-right\n",
    "    [3, 1..10] as the cliff at bottom-center\n",
    "\n",
    "Each time step incurs -1 reward, and stepping into the cliff incurs -100 reward\n",
    "and a reset to the start. If an action would take you off the grid, you remain in the previous state.\n",
    "An episode terminates when the agent reaches the goal.\n"
   ]
  },
  {
   "cell_type": "code",
   "execution_count": 2,
   "metadata": {},
   "outputs": [
    {
     "name": "stdout",
     "output_type": "stream",
     "text": [
      "o  o  o  o  o  o  o  o  o  o  o  o\n",
      "o  o  o  o  o  o  o  o  o  o  o  o\n",
      "o  o  o  o  o  o  o  o  o  o  o  o\n",
      "x  C  C  C  C  C  C  C  C  C  C  T\n",
      "\n"
     ]
    }
   ],
   "source": [
    "\n",
    "import gym\n",
    "import numpy as np\n",
    "from tqdm import tqdm \n",
    "\n",
    "env = gym.make('CliffWalking-v0') # Create the environment #render_mode=\"human\"  human, ansi, \n",
    "env.reset() # reset environment to a new, random state\n",
    "env.render() # Renders the environment for visualization"
   ]
  },
  {
   "cell_type": "markdown",
   "metadata": {},
   "source": [
    "Here _x_ is the location of the agent, *o* are possible places to go to, *C* is the cliff, and *T* is the target."
   ]
  },
  {
   "cell_type": "code",
   "execution_count": 3,
   "metadata": {},
   "outputs": [
    {
     "name": "stdout",
     "output_type": "stream",
     "text": [
      "Number of actions:  4\n",
      "Number of states:  48\n"
     ]
    }
   ],
   "source": [
    "num_actions = env.action_space.n \n",
    "num_states = env.observation_space.n \n",
    "\n",
    "print(\"Number of actions: \", num_actions)\n",
    "print(\"Number of states: \", num_states)"
   ]
  },
  {
   "cell_type": "code",
   "execution_count": 4,
   "metadata": {},
   "outputs": [
    {
     "name": "stdout",
     "output_type": "stream",
     "text": [
      "o  o  o  o  o  o  o  o  o  o  o  o\n",
      "o  o  o  o  o  o  o  o  o  o  o  o\n",
      "x  o  o  o  o  o  o  o  o  o  o  o\n",
      "o  C  C  C  C  C  C  C  C  C  C  T\n",
      "\n"
     ]
    }
   ],
   "source": [
    "action = 0 # Move up\n",
    "a = env.step(action) # This is the function we use to interact with the environment\n",
    "env.render() # Renders the environment for visualization"
   ]
  },
  {
   "cell_type": "code",
   "execution_count": 5,
   "metadata": {},
   "outputs": [
    {
     "name": "stdout",
     "output_type": "stream",
     "text": [
      "Action:  0\n",
      "Next state:  24\n",
      "Reward:  -1\n",
      "Done:  False\n",
      "o  o  o  o  o  o  o  o  o  o  o  o\n",
      "o  o  o  o  o  o  o  o  o  o  o  o\n",
      "x  o  o  o  o  o  o  o  o  o  o  o\n",
      "o  C  C  C  C  C  C  C  C  C  C  T\n",
      "\n",
      "Action:  1\n",
      "Next state:  25\n",
      "Reward:  -1\n",
      "Done:  False\n",
      "o  o  o  o  o  o  o  o  o  o  o  o\n",
      "o  o  o  o  o  o  o  o  o  o  o  o\n",
      "o  x  o  o  o  o  o  o  o  o  o  o\n",
      "o  C  C  C  C  C  C  C  C  C  C  T\n",
      "\n",
      "Action:  2\n",
      "Next state:  36\n",
      "Reward:  -100\n",
      "Done:  False\n",
      "o  o  o  o  o  o  o  o  o  o  o  o\n",
      "o  o  o  o  o  o  o  o  o  o  o  o\n",
      "o  o  o  o  o  o  o  o  o  o  o  o\n",
      "x  C  C  C  C  C  C  C  C  C  C  T\n",
      "\n",
      "Action:  3\n",
      "Next state:  36\n",
      "Reward:  -1\n",
      "Done:  False\n",
      "o  o  o  o  o  o  o  o  o  o  o  o\n",
      "o  o  o  o  o  o  o  o  o  o  o  o\n",
      "o  o  o  o  o  o  o  o  o  o  o  o\n",
      "x  C  C  C  C  C  C  C  C  C  C  T\n",
      "\n"
     ]
    },
    {
     "data": {
      "text/plain": [
       "36"
      ]
     },
     "execution_count": 5,
     "metadata": {},
     "output_type": "execute_result"
    }
   ],
   "source": [
    "# 0 -> UP, 1 -> RIGHT, 2 -> DOWN, 3 -> LEFT\n",
    "env.reset()\n",
    "import time\n",
    "for action in [0, 1, 2, 3]:\n",
    "    print(\"Action: \", action)\n",
    "    time.sleep(1)\n",
    "    next_state, reward, is_done, info = env.step(action)     # next_state, reward, is_done, info\n",
    "    print(\"Next state: \", next_state)\n",
    "    print(\"Reward: \", reward)\n",
    "    print(\"Done: \",is_done)\n",
    "    env.render()\n",
    "env.reset()"
   ]
  },
  {
   "cell_type": "markdown",
   "metadata": {},
   "source": [
    "As you can see above, each non-terminal action has a reward of -1. 0 -> UP, 1 -> RIGHT, 2 -> DOWN, 3 -> LEFT. The moment the agent falls off the cliff the reward becomes -100 and the agent resets to the start."
   ]
  },
  {
   "cell_type": "code",
   "execution_count": 6,
   "metadata": {},
   "outputs": [],
   "source": [
    "# Initialize values \n",
    "num_episodes = 1000\n",
    "lr = 0.8 #alpha, lr = a/n can satisfy Robbins-Monro convergence\n",
    "epsilon = 0.25"
   ]
  },
  {
   "cell_type": "code",
   "execution_count": 7,
   "metadata": {},
   "outputs": [],
   "source": [
    "# Initialize Q function - a simplified version is used here \n",
    "# in reality the number of states may be unknown and all states may not be reachable \n",
    "\n",
    "Q = {i:[0]*num_actions for i in range(num_states)}"
   ]
  },
  {
   "cell_type": "code",
   "execution_count": 8,
   "metadata": {},
   "outputs": [],
   "source": [
    "def behavioral_policy(state, Q, num_actions, epsilon):\n",
    "    # Implement the epsilon-greedy policy\n",
    "    # Don't forget the epsilon-greedy idea\n",
    "    probs = [epsilon/num_actions]*num_actions\n",
    "    best_action = np.argmax(Q[state])\n",
    "    probs[best_action] += 1-epsilon\n",
    "    \n",
    "    action = np.argmax(np.random.multinomial(1, probs, size=1)[0])\n",
    "    return action"
   ]
  },
  {
   "cell_type": "code",
   "execution_count": 9,
   "metadata": {
    "scrolled": false
   },
   "outputs": [
    {
     "name": "stdout",
     "output_type": "stream",
     "text": [
      "3\n",
      "3\n",
      "0\n",
      "0\n",
      "3\n",
      "0\n",
      "2\n",
      "2\n",
      "1\n",
      "2\n"
     ]
    }
   ],
   "source": [
    "# You can use this to check if your algorithm is correct\n",
    "for i in range(10):\n",
    "    print(behavioral_policy(0, Q, num_actions, 0.8))"
   ]
  },
  {
   "cell_type": "markdown",
   "metadata": {},
   "source": [
    "### Helper Functions"
   ]
  },
  {
   "cell_type": "markdown",
   "metadata": {},
   "source": [
    "1. Visualize Policy as annotations ('↑', '↓', '←', '→')"
   ]
  },
  {
   "cell_type": "code",
   "execution_count": 10,
   "metadata": {},
   "outputs": [],
   "source": [
    "def visualizePolicy(p):\n",
    "    for i in range(0,4):\n",
    "        for j in range(12):\n",
    "            #↑↓← →\n",
    "            case = p[i*12+j]\n",
    "            if case == 0 : print(\"↑\", end=' ')\n",
    "            if case == 1 : print(\"→\", end=' ')\n",
    "            if case == 2 : print(\"↓\", end=' ')\n",
    "            if case == 3 : print(\"←\", end=' ')\n",
    "        print()"
   ]
  },
  {
   "cell_type": "markdown",
   "metadata": {},
   "source": [
    "2. Visualize the learning results"
   ]
  },
  {
   "cell_type": "code",
   "execution_count": 11,
   "metadata": {},
   "outputs": [],
   "source": [
    "# run this cell if you do not have the matplotlib library\n",
    "# !pip install matplotlib\n",
    "import matplotlib.pyplot as plt"
   ]
  },
  {
   "cell_type": "code",
   "execution_count": 12,
   "metadata": {},
   "outputs": [],
   "source": [
    "def plot_rate(episode_length_A, episode_length_B, total_reward_episode_A, total_reward_episode_B, title, mode=1):\n",
    "    fig, ax = plt.subplots(1, 2, figsize=(12, 6))\n",
    "    \n",
    "    ax[0].plot(episode_length_A, label='SARSA')\n",
    "    ax[0].plot(episode_length_B, label='Q-Learning', color='orange')\n",
    "    ax[0].set_ylim([0, 2000])\n",
    "    ax[0].set_title(\"Episode Length over time\")\n",
    "    ax[0].set(xlabel=\"Episode\", ylabel=\"Length\")\n",
    "    ax[0].legend()\n",
    "    \n",
    "    ax[1].plot(total_reward_episode_A, label='SARSA')\n",
    "    ax[1].plot(total_reward_episode_B, label='Q-Learning', color='orange')\n",
    "    if mode == 1:\n",
    "        ax[1].set_ylim([-10000,0])\n",
    "    if mode == 2:\n",
    "        ax[1].set_ylim([-500,0])\n",
    "    if mode == 3:\n",
    "        ax[1].set_ylim([-1000,0])\n",
    "    ax[1].set_title(\"Episode reward over time\")\n",
    "    ax[1].set(xlabel=\"Episode reward over time\", ylabel=\"Reward\")\n",
    "    ax[1].legend()\n",
    "    \n",
    "    fig.suptitle(title)\n",
    "    plt.show()"
   ]
  },
  {
   "cell_type": "markdown",
   "metadata": {},
   "source": [
    "### SARSA Learning "
   ]
  },
  {
   "cell_type": "code",
   "execution_count": 13,
   "metadata": {},
   "outputs": [],
   "source": [
    "import copy\n",
    "\n",
    "def sarsa(env, Q, num_actions, num_episodes, epsilon, lr):\n",
    "    \n",
    "    episode_length = [0] * num_episodes\n",
    "    total_reward_episode = [0] * num_episodes\n",
    "    \n",
    "    # epsilon-decrease strategy\n",
    "    gap = (epsilon-0.05)/(num_episodes+1)\n",
    "    \n",
    "    # init Q\n",
    "    Q = copy.deepcopy(Q)\n",
    "    \n",
    "    for episode in tqdm(range(num_episodes)):\n",
    "        state = env.reset()\n",
    "        is_done = False\n",
    "        \n",
    "        # implement SARSA\n",
    "        action = behavioral_policy(state, Q, num_actions, epsilon)\n",
    "        \n",
    "        # lri, actual learning rate in each move\n",
    "        count = 1\n",
    "        lri = lr\n",
    "        \n",
    "        # epsilon-decrease strategy\n",
    "        epsilon -= gap\n",
    "        \n",
    "        while not is_done:\n",
    "            \n",
    "            next_state, reward, is_done, info = env.step(action)\n",
    "            next_action = behavioral_policy(next_state, Q, num_actions, epsilon)\n",
    "            \n",
    "            Q[state][action] = Q[state][action] + lri*(reward + Q[next_state][next_action]-Q[state][action])\n",
    "            state = next_state\n",
    "            action = next_action\n",
    "            \n",
    "            # update lri\n",
    "            count += 1\n",
    "            lri = lr * (1/count)\n",
    "            \n",
    "            episode_length[episode] += 1\n",
    "            total_reward_episode[episode] += reward\n",
    "    \n",
    "    policy = {}\n",
    "    \n",
    "    for i in range(num_states):\n",
    "        policy[i]=np.argmax(Q[i])\n",
    "\n",
    "    return Q, policy, {\"rewards\": total_reward_episode, \"length\": episode_length}"
   ]
  },
  {
   "cell_type": "code",
   "execution_count": 14,
   "metadata": {},
   "outputs": [
    {
     "name": "stderr",
     "output_type": "stream",
     "text": [
      "100%|██████████| 1000/1000 [00:15<00:00, 65.14it/s] \n"
     ]
    }
   ],
   "source": [
    "# Run SARSA\n",
    "optimal_sarsa_Q, sarsa_optimal_policy, sarsa_info = sarsa(env, Q, num_actions, num_episodes, epsilon, lr)"
   ]
  },
  {
   "cell_type": "markdown",
   "metadata": {},
   "source": [
    "### Q-Learning"
   ]
  },
  {
   "cell_type": "code",
   "execution_count": 15,
   "metadata": {},
   "outputs": [],
   "source": [
    "import copy\n",
    "\n",
    "def q_learning(env, Q, num_actions, num_episodes, epsilon, lr):\n",
    "    # Given to students\n",
    "    episode_length = [0] * num_episodes\n",
    "    total_reward_episode = [0] * num_episodes\n",
    "    \n",
    "    # epsilon-decrease strategy\n",
    "    gap = (epsilon-0.05)/(num_episodes+1)\n",
    "    \n",
    "    # init Q\n",
    "    Q = copy.deepcopy(Q)\n",
    "   \n",
    "    for episode in tqdm(range(num_episodes)):\n",
    "        state = env.reset()\n",
    "        is_done = False\n",
    "        \n",
    "        # epsilon-decrease strategy\n",
    "        epsilon -= gap\n",
    "        \n",
    "        # lri, actual learning rate in each move\n",
    "        count = 1\n",
    "        lri = lr\n",
    "        \n",
    "        # Implemnt Q-Learning\n",
    "        while not is_done:\n",
    "            \n",
    "            action = behavioral_policy(state, Q, num_actions, epsilon)\n",
    "            \n",
    "            next_state, reward, is_done, info = env.step(action)\n",
    "            next_action = np.argmax(Q[next_state])\n",
    "            \n",
    "            Q[state][action] = Q[state][action] + lri*(reward + Q[next_state][next_action]-Q[state][action])\n",
    "            state = next_state\n",
    "            \n",
    "            # update lri\n",
    "            count += 1\n",
    "            lri = lr * (1/count)\n",
    "            \n",
    "            total_reward_episode[episode] += reward\n",
    "            episode_length[episode] += 1\n",
    "            \n",
    "    policy = {}\n",
    "    # Write the code here\n",
    "    \n",
    "    for i in range(num_states):\n",
    "        policy[i]=np.argmax(Q[i])\n",
    "\n",
    "    return Q, policy, {\"rewards\": total_reward_episode, \"length\": episode_length}"
   ]
  },
  {
   "cell_type": "code",
   "execution_count": 16,
   "metadata": {},
   "outputs": [
    {
     "name": "stderr",
     "output_type": "stream",
     "text": [
      "100%|██████████| 1000/1000 [00:20<00:00, 48.98it/s]\n"
     ]
    }
   ],
   "source": [
    "# Run Q-Learning \n",
    "optimal_Q, q_optimal_policy, q_info = q_learning(env, Q, num_actions, num_episodes, epsilon, lr)"
   ]
  },
  {
   "cell_type": "markdown",
   "metadata": {},
   "source": [
    "### Results"
   ]
  },
  {
   "cell_type": "markdown",
   "metadata": {},
   "source": [
    "1. optimal policy"
   ]
  },
  {
   "cell_type": "code",
   "execution_count": 17,
   "metadata": {
    "scrolled": true
   },
   "outputs": [
    {
     "name": "stdout",
     "output_type": "stream",
     "text": [
      "\n",
      "GridWorld SARSA Optimal policy: \n",
      "\n",
      "→ → → → → → → → → ↓ → ↓ \n",
      "→ → → → → → → → → → → ↓ \n",
      "↑ ↑ ↑ → ↑ ↑ ↑ ↑ ↑ ← → ↓ \n",
      "↑ ↑ ↑ ↑ ↑ ↑ ↑ ↑ ↑ ↑ ↑ ↑ \n",
      "\n",
      " {0: 1, 1: 1, 2: 1, 3: 1, 4: 1, 5: 1, 6: 1, 7: 1, 8: 1, 9: 2, 10: 1, 11: 2, 12: 1, 13: 1, 14: 1, 15: 1, 16: 1, 17: 1, 18: 1, 19: 1, 20: 1, 21: 1, 22: 1, 23: 2, 24: 0, 25: 0, 26: 0, 27: 1, 28: 0, 29: 0, 30: 0, 31: 0, 32: 0, 33: 3, 34: 1, 35: 2, 36: 0, 37: 0, 38: 0, 39: 0, 40: 0, 41: 0, 42: 0, 43: 0, 44: 0, 45: 0, 46: 0, 47: 0}\n"
     ]
    }
   ],
   "source": [
    "print(\"\\nGridWorld SARSA Optimal policy: \\n\")\n",
    "visualizePolicy(sarsa_optimal_policy)\n",
    "print(\"\\n\", sarsa_optimal_policy)"
   ]
  },
  {
   "cell_type": "code",
   "execution_count": 18,
   "metadata": {
    "scrolled": true
   },
   "outputs": [
    {
     "name": "stdout",
     "output_type": "stream",
     "text": [
      "\n",
      "GridWorld Q-Learning Optimal policy: \n",
      "\n",
      "→ → → ↑ ↑ → ↑ → ← ↑ ↑ ↑ \n",
      "↑ → → → ↓ → → → → → ↓ ↓ \n",
      "→ → → → → → → → → → → ↓ \n",
      "↑ ↑ ↑ ↑ ↑ ↑ ↑ ↑ ↑ ↑ ↑ ↑ \n",
      "\n",
      " {0: 1, 1: 1, 2: 1, 3: 0, 4: 0, 5: 1, 6: 0, 7: 1, 8: 3, 9: 0, 10: 0, 11: 0, 12: 0, 13: 1, 14: 1, 15: 1, 16: 2, 17: 1, 18: 1, 19: 1, 20: 1, 21: 1, 22: 2, 23: 2, 24: 1, 25: 1, 26: 1, 27: 1, 28: 1, 29: 1, 30: 1, 31: 1, 32: 1, 33: 1, 34: 1, 35: 2, 36: 0, 37: 0, 38: 0, 39: 0, 40: 0, 41: 0, 42: 0, 43: 0, 44: 0, 45: 0, 46: 0, 47: 0}\n"
     ]
    }
   ],
   "source": [
    "print(\"\\nGridWorld Q-Learning Optimal policy: \\n\")\n",
    "visualizePolicy(q_optimal_policy)\n",
    "print(\"\\n\", q_optimal_policy)"
   ]
  },
  {
   "cell_type": "markdown",
   "metadata": {},
   "source": [
    "2. average return across the episodes"
   ]
  },
  {
   "cell_type": "code",
   "execution_count": 19,
   "metadata": {
    "scrolled": true
   },
   "outputs": [
    {
     "name": "stdout",
     "output_type": "stream",
     "text": [
      "\n",
      "Average return across the episodes of SARSA: 53.095\n"
     ]
    }
   ],
   "source": [
    "# Calculate the average return across the episodes for each environment\n",
    "av_sarsa_len_gw = sum(sarsa_info['length']) / num_episodes\n",
    "print(\"\\nAverage return across the episodes of SARSA:\",av_sarsa_len_gw)"
   ]
  },
  {
   "cell_type": "code",
   "execution_count": 20,
   "metadata": {
    "scrolled": false
   },
   "outputs": [
    {
     "name": "stdout",
     "output_type": "stream",
     "text": [
      "\n",
      "Average return across the episodes of Q-Learning: 73.048\n"
     ]
    }
   ],
   "source": [
    "# Calculate the average return across the episodes for each environment\n",
    "av_q_len_gw = sum(q_info['length']) / num_episodes\n",
    "print(\"\\nAverage return across the episodes of Q-Learning:\",av_q_len_gw)"
   ]
  },
  {
   "cell_type": "markdown",
   "metadata": {},
   "source": [
    "3. average return after convergence"
   ]
  },
  {
   "cell_type": "code",
   "execution_count": 21,
   "metadata": {},
   "outputs": [],
   "source": [
    "def smoothData(arr, window_size=20):\n",
    "    if len(arr) == 1000:\n",
    "        sample_arr = arr[::2]\n",
    "    l = len(sample_arr)\n",
    "    size = window_size//2\n",
    "    avg_arr = []\n",
    "    for i in range(l): \n",
    "        left = max(0, i-size)\n",
    "        right = min(i+size, l)\n",
    "        val = sum(sample_arr[left:right])/(right-left)\n",
    "        avg_arr.append(val)\n",
    "    return avg_arr"
   ]
  },
  {
   "cell_type": "code",
   "execution_count": 22,
   "metadata": {},
   "outputs": [],
   "source": [
    "import math\n",
    "\n",
    "def getConvergence(arr, goal=-90, threshold=20):\n",
    "    for i in range(len(arr)):\n",
    "        if abs(arr[i] - goal) <= threshold:\n",
    "            return i\n",
    "    raise ValueError(\"The array is not converging\")"
   ]
  },
  {
   "cell_type": "code",
   "execution_count": 23,
   "metadata": {},
   "outputs": [
    {
     "name": "stdout",
     "output_type": "stream",
     "text": [
      "\n",
      "Convergence point of SARSA: 78\n",
      "\n",
      "Average return after convergence of SARSA: 70.03791469194313\n"
     ]
    }
   ],
   "source": [
    "sarsa_info_rewards = smoothData(sarsa_info[\"rewards\"])\n",
    "sarsa_info_l = len(sarsa_info_rewards)\n",
    "sarsa_con_index = getConvergence(sarsa_info_rewards)\n",
    "sarsa_con_av_len = sum(sarsa_info[\"length\"][sarsa_con_index:]) / (sarsa_info_l-sarsa_con_index)\n",
    "print(\"\\nConvergence point of SARSA:\",sarsa_con_index)\n",
    "print(\"\\nAverage return after convergence of SARSA:\",sarsa_con_av_len)"
   ]
  },
  {
   "cell_type": "code",
   "execution_count": 24,
   "metadata": {},
   "outputs": [
    {
     "name": "stdout",
     "output_type": "stream",
     "text": [
      "\n",
      "Convergence point of Q-Learning: 111\n",
      "\n",
      "Average return after convergence of Q-Learning: 66.293059125964\n"
     ]
    }
   ],
   "source": [
    "q_info_rewards = smoothData(q_info[\"rewards\"])\n",
    "q_info_l = len(q_info_rewards)\n",
    "q_con_index = getConvergence(q_info_rewards)\n",
    "q_con_av_len = sum(q_info[\"length\"][q_con_index:]) / (q_info_l-q_con_index)\n",
    "print(\"\\nConvergence point of Q-Learning:\",q_con_index)\n",
    "print(\"\\nAverage return after convergence of Q-Learning:\",q_con_av_len)"
   ]
  },
  {
   "cell_type": "markdown",
   "metadata": {},
   "source": [
    "4. rewards and length"
   ]
  },
  {
   "cell_type": "code",
   "execution_count": 25,
   "metadata": {
    "scrolled": true
   },
   "outputs": [
    {
     "data": {
      "image/png": "[encoded data removed]",
      "text/plain": [
       "<Figure size 864x432 with 2 Axes>"
      ]
     },
     "metadata": {
      "needs_background": "light"
     },
     "output_type": "display_data"
    }
   ],
   "source": [
    "plot_rate(sarsa_info[\"length\"], q_info[\"length\"], sarsa_info[\"rewards\"], q_info[\"rewards\"], \"GridWorld\")"
   ]
  },
  {
   "cell_type": "code",
   "execution_count": 26,
   "metadata": {
    "scrolled": true
   },
   "outputs": [
    {
     "name": "stderr",
     "output_type": "stream",
     "text": [
      "100%|██████████| 1000/1000 [00:14<00:00, 68.19it/s]\n",
      "100%|██████████| 1000/1000 [00:21<00:00, 46.71it/s]\n",
      "100%|██████████| 1000/1000 [00:18<00:00, 53.59it/s]\n",
      "100%|██████████| 1000/1000 [06:28<00:00,  2.58it/s] \n",
      "100%|██████████| 1000/1000 [00:26<00:00, 38.30it/s]\n",
      "100%|██████████| 1000/1000 [00:28<00:00, 34.54it/s]\n",
      "100%|██████████| 1000/1000 [00:30<00:00, 33.00it/s]\n",
      "100%|██████████| 1000/1000 [02:04<00:00,  8.04it/s] \n",
      "100%|██████████| 1000/1000 [00:23<00:00, 43.36it/s]\n",
      "100%|██████████| 1000/1000 [00:28<00:00, 35.52it/s]\n",
      "100%|██████████| 1000/1000 [00:24<00:00, 40.29it/s]\n",
      "100%|██████████| 1000/1000 [00:21<00:00, 45.62it/s]\n",
      "100%|██████████| 1000/1000 [00:24<00:00, 41.20it/s]\n",
      "100%|██████████| 1000/1000 [00:26<00:00, 38.09it/s]\n",
      "100%|██████████| 1000/1000 [00:21<00:00, 46.60it/s]\n",
      "100%|██████████| 1000/1000 [00:20<00:00, 48.25it/s]\n",
      "100%|██████████| 1000/1000 [00:29<00:00, 34.28it/s]\n",
      "100%|██████████| 1000/1000 [00:17<00:00, 58.51it/s]\n",
      "100%|██████████| 1000/1000 [00:53<00:00, 18.83it/s]\n",
      "100%|██████████| 1000/1000 [00:53<00:00, 18.61it/s]\n"
     ]
    }
   ],
   "source": [
    "run_times = 10\n",
    "\n",
    "for i in range(run_times):\n",
    "    \n",
    "    # Run SARSA\n",
    "    _, _, sarsa_info_tmp = sarsa(env, Q, num_actions, num_episodes, epsilon, lr)\n",
    "    sarsa_info[\"length\"] = [ sarsa_info[\"length\"][i] + sarsa_info_tmp[\"length\"][i] for i in range(num_episodes)]\n",
    "    sarsa_info[\"rewards\"] = [ sarsa_info[\"rewards\"][i] + sarsa_info_tmp[\"rewards\"][i] for i in range(num_episodes)]\n",
    "    \n",
    "    # Run Q-Learning \n",
    "    _, _, q_info_tmp = q_learning(env, Q, num_actions, num_episodes, epsilon, lr)\n",
    "    q_info[\"length\"] = [ q_info[\"length\"][i] + q_info_tmp[\"length\"][i] for i in range(num_episodes)]\n",
    "    q_info[\"rewards\"] = [ q_info[\"rewards\"][i] + q_info_tmp[\"rewards\"][i] for i in range(num_episodes)]\n",
    "\n",
    "sarsa_info[\"length\"] = [val/(run_times+1) for val in sarsa_info[\"length\"]]\n",
    "sarsa_info[\"rewards\"] = [val/(run_times+1) for val in sarsa_info[\"rewards\"]]\n",
    "q_info[\"length\"] = [val/(run_times+1) for val in q_info[\"length\"]]\n",
    "q_info[\"rewards\"] = [val/(run_times+1) for val in q_info[\"rewards\"]]"
   ]
  },
  {
   "cell_type": "code",
   "execution_count": 27,
   "metadata": {},
   "outputs": [],
   "source": [
    "gw_sarsa_info_length = smoothData(sarsa_info[\"length\"], 50)\n",
    "gw_q_info_length = smoothData(q_info[\"length\"], 50)\n",
    "gw_sarsa_info_rewards = smoothData(sarsa_info[\"rewards\"], 50)\n",
    "gw_q_info_rewards = smoothData(q_info[\"rewards\"], 50)"
   ]
  },
  {
   "cell_type": "code",
   "execution_count": 28,
   "metadata": {},
   "outputs": [
    {
     "data": {
      "image/png": "[encoded data removed]",
      "text/plain": [
       "<Figure size 864x432 with 2 Axes>"
      ]
     },
     "metadata": {
      "needs_background": "light"
     },
     "output_type": "display_data"
    }
   ],
   "source": [
    "plot_rate(gw_sarsa_info_length, gw_q_info_length, gw_sarsa_info_rewards, gw_q_info_rewards, \"GridWorld\", 2)"
   ]
  },
  {
   "cell_type": "markdown",
   "metadata": {},
   "source": [
    "## Task 1b: Learning in Windy Grid world"
   ]
  },
  {
   "cell_type": "markdown",
   "metadata": {},
   "source": [
    "WindyGridWorld is similar to GridWorld, but with a few differences. You only need to move to the target state. But this time there is a cross-wind across the center of the grid that will push you upwards. In columns 3, 4, 5, and 8 there are winds of strength 1 while in column 6 and 7 there are winds of strength 2. For more details refer Example 6.5 in\n",
    "\n",
    " http://incompleteideas.net/book/RLbook2020.pdf\n",
    "\n",
    " You only need to change the environment and reuse the SARSA and Q-learning algorithms. "
   ]
  },
  {
   "cell_type": "code",
   "execution_count": 29,
   "metadata": {},
   "outputs": [
    {
     "name": "stdout",
     "output_type": "stream",
     "text": [
      "o  o  o  o  o  o  o  o  o  o\n",
      "o  o  o  o  o  o  o  o  o  o\n",
      "o  o  o  o  o  o  o  o  o  o\n",
      "x  o  o  o  o  o  o  T  o  o\n",
      "o  o  o  o  o  o  o  o  o  o\n",
      "o  o  o  o  o  o  o  o  o  o\n",
      "o  o  o  o  o  o  o  o  o  o\n",
      "\n"
     ]
    }
   ],
   "source": [
    "#Windy Grid World environment\n",
    "from WindyGridWorld import WindyGridWorld\n",
    "env = WindyGridWorld()\n",
    "env.reset()\n",
    "env.render()"
   ]
  },
  {
   "cell_type": "code",
   "execution_count": 30,
   "metadata": {},
   "outputs": [
    {
     "name": "stdout",
     "output_type": "stream",
     "text": [
      "Number of actions:  4\n",
      "Number of states:  70\n"
     ]
    }
   ],
   "source": [
    "num_actions = env.action_space.n \n",
    "num_states = env.observation_space.n \n",
    "\n",
    "print(\"Number of actions: \", num_actions)\n",
    "print(\"Number of states: \", num_states)"
   ]
  },
  {
   "cell_type": "markdown",
   "metadata": {},
   "source": [
    "Play around with different learning rates epsilons, and Q initializations to see what is best."
   ]
  },
  {
   "cell_type": "code",
   "execution_count": 31,
   "metadata": {},
   "outputs": [],
   "source": [
    "num_episodes = 1000\n",
    "lr = 0.8 #alpha, lr = a/n can satisfy Robbins-Monro convergence\n",
    "epsilon = 0.25\n",
    "Q = {i:[0]*num_actions for i in range(num_states)}"
   ]
  },
  {
   "cell_type": "code",
   "execution_count": 32,
   "metadata": {
    "scrolled": true
   },
   "outputs": [
    {
     "name": "stderr",
     "output_type": "stream",
     "text": [
      "100%|██████████| 1000/1000 [00:49<00:00, 20.34it/s]\n"
     ]
    }
   ],
   "source": [
    "optimal_sarsa_Q, sarsa_optimal_policy, sarsa_info = sarsa(env, Q, num_actions, num_episodes, epsilon, lr)"
   ]
  },
  {
   "cell_type": "code",
   "execution_count": 33,
   "metadata": {},
   "outputs": [
    {
     "name": "stderr",
     "output_type": "stream",
     "text": [
      "100%|██████████| 1000/1000 [00:43<00:00, 22.79it/s] \n"
     ]
    }
   ],
   "source": [
    "optimal_Q, q_optimal_policy, q_info = q_learning(env, Q, num_actions, num_episodes, epsilon, lr)"
   ]
  },
  {
   "cell_type": "markdown",
   "metadata": {},
   "source": [
    "### Results"
   ]
  },
  {
   "cell_type": "markdown",
   "metadata": {},
   "source": [
    "1. optimal policy"
   ]
  },
  {
   "cell_type": "code",
   "execution_count": 34,
   "metadata": {
    "scrolled": true
   },
   "outputs": [
    {
     "name": "stdout",
     "output_type": "stream",
     "text": [
      "\n",
      "GridWorld SARSA Optimal policy: \n",
      "\n",
      "← → → ↑ → → → → → ↓ ↓ ↓ \n",
      "↑ ↓ → → → ↓ → ↓ ↑ ↑ ↓ ↓ \n",
      "↓ → → → ↓ ↓ → ↓ ↑ → ↓ → \n",
      "→ ↑ ← ↓ ↓ → → ↑ → → ↑ ← \n",
      "\n",
      " {0: 3, 1: 1, 2: 1, 3: 0, 4: 1, 5: 1, 6: 1, 7: 1, 8: 1, 9: 2, 10: 2, 11: 2, 12: 0, 13: 2, 14: 1, 15: 1, 16: 1, 17: 2, 18: 1, 19: 2, 20: 0, 21: 0, 22: 2, 23: 2, 24: 2, 25: 1, 26: 1, 27: 1, 28: 2, 29: 2, 30: 1, 31: 2, 32: 0, 33: 1, 34: 2, 35: 1, 36: 1, 37: 0, 38: 3, 39: 2, 40: 2, 41: 1, 42: 1, 43: 0, 44: 1, 45: 1, 46: 0, 47: 3, 48: 3, 49: 3, 50: 1, 51: 2, 52: 1, 53: 1, 54: 2, 55: 0, 56: 0, 57: 0, 58: 3, 59: 1, 60: 0, 61: 3, 62: 1, 63: 2, 64: 0, 65: 0, 66: 0, 67: 0, 68: 3, 69: 3}\n"
     ]
    }
   ],
   "source": [
    "print(\"\\nGridWorld SARSA Optimal policy: \\n\")\n",
    "visualizePolicy(sarsa_optimal_policy)\n",
    "print(\"\\n\", sarsa_optimal_policy)"
   ]
  },
  {
   "cell_type": "code",
   "execution_count": 35,
   "metadata": {
    "scrolled": true
   },
   "outputs": [
    {
     "name": "stdout",
     "output_type": "stream",
     "text": [
      "\n",
      "GridWorld Q-Learning Optimal policy: \n",
      "\n",
      "↓ ↑ ↑ → → → → → → ↓ ↑ → \n",
      "→ → → → → ↑ ↓ ↓ ← → → → \n",
      "↑ ↓ → ↓ ↓ ↓ → ↓ ↓ ↑ ↑ ↑ \n",
      "→ ↑ ↓ ↓ ↓ ↓ → → ← ← ↑ ↓ \n",
      "\n",
      " {0: 2, 1: 0, 2: 0, 3: 1, 4: 1, 5: 1, 6: 1, 7: 1, 8: 1, 9: 2, 10: 0, 11: 1, 12: 1, 13: 1, 14: 1, 15: 1, 16: 1, 17: 0, 18: 2, 19: 2, 20: 3, 21: 1, 22: 1, 23: 1, 24: 0, 25: 2, 26: 1, 27: 2, 28: 2, 29: 2, 30: 1, 31: 2, 32: 2, 33: 0, 34: 0, 35: 0, 36: 1, 37: 0, 38: 2, 39: 2, 40: 2, 41: 2, 42: 1, 43: 1, 44: 3, 45: 3, 46: 0, 47: 2, 48: 3, 49: 3, 50: 1, 51: 1, 52: 1, 53: 0, 54: 1, 55: 0, 56: 0, 57: 2, 58: 2, 59: 1, 60: 3, 61: 1, 62: 1, 63: 1, 64: 0, 65: 0, 66: 0, 67: 0, 68: 3, 69: 1}\n"
     ]
    }
   ],
   "source": [
    "print(\"\\nGridWorld Q-Learning Optimal policy: \\n\")\n",
    "visualizePolicy(q_optimal_policy)\n",
    "print(\"\\n\", q_optimal_policy)"
   ]
  },
  {
   "cell_type": "markdown",
   "metadata": {},
   "source": [
    "2. average return across the episodes"
   ]
  },
  {
   "cell_type": "code",
   "execution_count": 36,
   "metadata": {},
   "outputs": [
    {
     "name": "stdout",
     "output_type": "stream",
     "text": [
      "\n",
      "Average return across the episodes of SARSA: 194.443\n"
     ]
    }
   ],
   "source": [
    "# Calculate the average return across the episodes for each environment\n",
    "sarsa_av_rw = sum(sarsa_info['length']) / num_episodes\n",
    "print(\"\\nAverage return across the episodes of SARSA:\",sarsa_av_rw)"
   ]
  },
  {
   "cell_type": "code",
   "execution_count": 37,
   "metadata": {
    "scrolled": true
   },
   "outputs": [
    {
     "name": "stdout",
     "output_type": "stream",
     "text": [
      "\n",
      "Average return across the episodes of Q-Learning: 166.801\n"
     ]
    }
   ],
   "source": [
    "# Calculate the average return across the episodes for each environment\n",
    "q_av_rw = sum(q_info['length']) / num_episodes\n",
    "print(\"\\nAverage return across the episodes of Q-Learning:\",q_av_rw)"
   ]
  },
  {
   "cell_type": "markdown",
   "metadata": {},
   "source": [
    "3. average return after convergence"
   ]
  },
  {
   "cell_type": "code",
   "execution_count": 38,
   "metadata": {},
   "outputs": [
    {
     "name": "stdout",
     "output_type": "stream",
     "text": [
      "\n",
      "Convergence point of SARSA: 102\n",
      "\n",
      "Average return after convergence of SARSA: 147.53015075376885\n"
     ]
    }
   ],
   "source": [
    "sarsa_info_rewards = smoothData(sarsa_info[\"rewards\"])\n",
    "sarsa_info_l = len(sarsa_info_rewards)\n",
    "sarsa_con_index = getConvergence(sarsa_info_rewards)\n",
    "sarsa_con_av_len = sum(sarsa_info[\"length\"][sarsa_con_index:]) / (sarsa_info_l-sarsa_con_index)\n",
    "print(\"\\nConvergence point of SARSA:\",sarsa_con_index)\n",
    "print(\"\\nAverage return after convergence of SARSA:\",sarsa_con_av_len)"
   ]
  },
  {
   "cell_type": "code",
   "execution_count": 39,
   "metadata": {},
   "outputs": [
    {
     "name": "stdout",
     "output_type": "stream",
     "text": [
      "\n",
      "Convergence point of Q-Learning: 115\n",
      "\n",
      "Average return after convergence of Q-Learning: 129.2987012987013\n"
     ]
    }
   ],
   "source": [
    "q_info_rewards = smoothData(q_info[\"rewards\"])\n",
    "q_info_l = len(q_info_rewards)\n",
    "q_con_index = getConvergence(q_info_rewards)\n",
    "q_con_av_len = sum(q_info[\"length\"][q_con_index:]) / (q_info_l-q_con_index)\n",
    "print(\"\\nConvergence point of Q-Learning:\",q_con_index)\n",
    "print(\"\\nAverage return after convergence of Q-Learning:\",q_con_av_len)"
   ]
  },
  {
   "cell_type": "markdown",
   "metadata": {},
   "source": [
    "4. rewards and length"
   ]
  },
  {
   "cell_type": "code",
   "execution_count": 40,
   "metadata": {
    "scrolled": true
   },
   "outputs": [
    {
     "data": {
      "image/png": "[encoded data removed]",
      "text/plain": [
       "<Figure size 864x432 with 2 Axes>"
      ]
     },
     "metadata": {
      "needs_background": "light"
     },
     "output_type": "display_data"
    }
   ],
   "source": [
    "plot_rate(sarsa_info[\"length\"], q_info[\"length\"], sarsa_info[\"rewards\"], q_info[\"rewards\"], \"WindyGridWorld\")"
   ]
  },
  {
   "cell_type": "code",
   "execution_count": 41,
   "metadata": {
    "scrolled": true
   },
   "outputs": [
    {
     "name": "stderr",
     "output_type": "stream",
     "text": [
      "100%|██████████| 1000/1000 [00:42<00:00, 23.65it/s]\n",
      "100%|██████████| 1000/1000 [00:52<00:00, 19.02it/s]\n",
      "100%|██████████| 1000/1000 [00:35<00:00, 28.41it/s]\n",
      "100%|██████████| 1000/1000 [00:45<00:00, 21.84it/s]\n",
      "100%|██████████| 1000/1000 [00:51<00:00, 19.49it/s]\n",
      "100%|██████████| 1000/1000 [00:50<00:00, 19.88it/s]\n",
      "100%|██████████| 1000/1000 [00:31<00:00, 31.74it/s]\n",
      "100%|██████████| 1000/1000 [02:32<00:00,  6.54it/s]\n",
      "100%|██████████| 1000/1000 [00:46<00:00, 21.67it/s]\n",
      "100%|██████████| 1000/1000 [00:43<00:00, 23.22it/s]\n",
      "100%|██████████| 1000/1000 [00:56<00:00, 17.67it/s]\n",
      "100%|██████████| 1000/1000 [00:49<00:00, 20.09it/s]\n",
      "100%|██████████| 1000/1000 [00:58<00:00, 17.22it/s] \n",
      "100%|██████████| 1000/1000 [00:43<00:00, 23.15it/s]\n",
      "100%|██████████| 1000/1000 [00:36<00:00, 27.61it/s]\n",
      "100%|██████████| 1000/1000 [01:10<00:00, 14.15it/s]\n",
      "100%|██████████| 1000/1000 [00:53<00:00, 18.73it/s]\n",
      "100%|██████████| 1000/1000 [00:53<00:00, 18.81it/s]\n",
      "100%|██████████| 1000/1000 [00:55<00:00, 17.96it/s]\n",
      "100%|██████████| 1000/1000 [00:57<00:00, 17.43it/s]\n"
     ]
    }
   ],
   "source": [
    "run_times = 10\n",
    "\n",
    "for i in range(run_times):\n",
    "    \n",
    "    # Run SARSA\n",
    "    _, _, sarsa_info_tmp = sarsa(env, Q, num_actions, num_episodes, epsilon, lr)\n",
    "    sarsa_info[\"length\"] = [ sarsa_info[\"length\"][i] + sarsa_info_tmp[\"length\"][i] for i in range(num_episodes)]\n",
    "    sarsa_info[\"rewards\"] = [ sarsa_info[\"rewards\"][i] + sarsa_info_tmp[\"rewards\"][i] for i in range(num_episodes)]\n",
    "    \n",
    "    # Run Q-Learning \n",
    "    _, _, q_info_tmp = q_learning(env, Q, num_actions, num_episodes, epsilon, lr)\n",
    "    q_info[\"length\"] = [ q_info[\"length\"][i] + q_info_tmp[\"length\"][i] for i in range(num_episodes)]\n",
    "    q_info[\"rewards\"] = [ q_info[\"rewards\"][i] + q_info_tmp[\"rewards\"][i] for i in range(num_episodes)]\n",
    "\n",
    "sarsa_info[\"length\"] = [val/(run_times+1) for val in sarsa_info[\"length\"]]\n",
    "sarsa_info[\"rewards\"] = [val/(run_times+1) for val in sarsa_info[\"rewards\"]]\n",
    "q_info[\"length\"] = [val/(run_times+1) for val in q_info[\"length\"]]\n",
    "q_info[\"rewards\"] = [val/(run_times+1) for val in q_info[\"rewards\"]]"
   ]
  },
  {
   "cell_type": "code",
   "execution_count": 42,
   "metadata": {},
   "outputs": [],
   "source": [
    "wgw_sarsa_info_length = smoothData(sarsa_info[\"length\"], 50)\n",
    "wgw_q_info_length = smoothData(q_info[\"length\"], 50)\n",
    "wgw_sarsa_info_rewards = smoothData(sarsa_info[\"rewards\"], 50)\n",
    "wgw_q_info_rewards = smoothData(q_info[\"rewards\"], 50)"
   ]
  },
  {
   "cell_type": "code",
   "execution_count": 43,
   "metadata": {},
   "outputs": [
    {
     "data": {
      "image/png": "[encoded data removed]",
      "text/plain": [
       "<Figure size 864x432 with 2 Axes>"
      ]
     },
     "metadata": {
      "needs_background": "light"
     },
     "output_type": "display_data"
    }
   ],
   "source": [
    "plot_rate(wgw_sarsa_info_length, wgw_q_info_length, wgw_sarsa_info_rewards, wgw_q_info_rewards, \"WindyGridWorld\", 3)"
   ]
  },
  {
   "cell_type": "markdown",
   "metadata": {},
   "source": [
    "# Task 2: Analysis (Comparison of Q-learning and SARSA learning algorithms)\n",
    "\n",
    "1. Comment on the number of episodes required to converge to the optimal policy for both environments. \n",
    "       \n",
    "2. Discuss the differences in the reward graphs.  \n",
    "\n",
    "3. Calculate the average return across the episodes for each environment. It gives a measure of the performance of the algorithm while learning (i.e., online performance).  \n",
    "\n",
    "4. Calculate the return after convergence. It gives you a measure of the performance after the learning is completed (i.e., offline performance). \n",
    "\n",
    "5. Briefly summarize your results.\n",
    " \n",
    " It is advisable to rerun the algorithm a few times to get a clearer understanding of the algorithms."
   ]
  },
  {
   "cell_type": "markdown",
   "metadata": {},
   "source": [
    "## Statements\n",
    "\n",
    "**Selection of $\\alpha$:**\n",
    "According to Robbins-Monro Conditions, to meet the requirement of convergence, $\\alpha$ should satisfy: \n",
    "\n",
    "\n",
    "$$ \\sum_{n=1}^{\\infty} \\alpha_n = \\infty \\tag{1}$$ \n",
    "$$ \\sum_{n=1}^{\\infty} \\alpha_n^2 < \\infty \\tag{2}$$\n",
    "\n",
    "To meet the condition, We set $\\alpha = 0.8*(1/n)$, where 0.8 is the intial learning rate. The result of formula (1) is $\\log n$, which is $\\infty$ when $n$ is infinite. The result of formula (2) is $0.8*(\\pi^2/6)$ when $n$ is $\\infty$. So the setting satisfy both conditions. \n",
    "\n",
    "To explain this, the learning rate decreases with every step excutes, becasue later steps are less relevant with current steps, the weight decreases gradually.\n",
    "\n",
    "**Selection of $\\epsilon$:**\n",
    "Epsilon is for the $\\epsilon$-greedy policy, we set $\\epsilon$ to be 0.25 at first, and with the learning of the model, the $\\epsilon$ is becoming smaller and smaller, here we assume it decreases to 0.05. The explanation is, the more the model learns, the more knowledge it gets, thus it is better for the model to take optimal actions than take actions randomly. The decrease of the $\\epsilon$ reduces the probability($\\epsilon$) of picking direction randomly, which means the probability(1- $\\epsilon$) increases. The reason we don't set $\\epsilon$ to 0 is because we want to present the difference between SARSA and Q-learning. \n",
    "\n",
    "**Selection of $\\gamma$:**\n",
    "Though we do not think the reward of the future steps is the same as the current, it is an ignored condition in this problem, so we set $\\gamma$ = 1 as the discount rate.\n",
    "\n",
    "**Numbers of episodes:**\n",
    "We mainly try the number of episodes in 200, 500, 1000 and 10000.Although the more episodes we train, the better the policy is, it takes quite a long time to train too many episodes. Roughly, 1000 is a suitable number for this problem as the result works out fine and it takes not very long time. "
   ]
  },
  {
   "cell_type": "markdown",
   "metadata": {},
   "source": [
    "## Comments\n",
    "\n",
    "**Q0.\n",
    "How do we choose the convergence point?**\n",
    "\n",
    "Firstly, we notice that it is quite impossible to find a fixed convergence point in the original data (as shown in fig1 and fig3). The randomness of algorithm leads to rapid changes in the output data even after many episodes. Therefore, we use \"average\" function to process data and make the trend smoother, which is more suitable for determining convergence.\n",
    "    \n",
    "Secondly, the number for convergence differs if we use different number of episodes. And even while we are using the same number of episodes, the convergence point flucuates. We estimate convergence episode conservatively. To be more specific, we observe the value in the range of line which turns nearly horizontal, and the values are around -150 to -80. Therefore, we choose -90 as the target value and 20 as threshold, i.e., when the average value falls in the range of (-110, -70), the index is considered as convergence point.\n",
    "\n",
    "**Q1.\n",
    "Comment on the number of episodes required to converge to the optimal policy for both environments.**\n",
    "      \n",
    "The number required to converge varies significantly in each training. \n",
    "\n",
    "Generally, in windy grid world, the number required to converge to the optimal policy are more close to each other and are bigger than Q-learning result in grid world.\n",
    "\n",
    "These phenomena can be explained by the influence of \"windy\" situation. To be specific, the length of the path from start state to the destination state in windy grid world is longer than that in grid world. Therefore, it takes longer time for both algorithms to find out the strategy. \n",
    "\n",
    "Also, the strategy of SARSA is stable and it cannot handle dynamic environment. As a result, the windy environment increases the chance for states in SARSA to trap in a bad situation, which adds to its risk and reduces the difference between these two algorithms. \n",
    "    \n",
    "**Q2.\n",
    "Discuss the differences in the reward graphs.**\n",
    "    \n",
    "As we can see,  the Q-learning line and SARSA line in grid world are clearly seperated, while these two lines entangled together in windy grid world. \n",
    "\n",
    "In grid world, the reward of Q-learning is generally smaller than SARSA, that is because SARSA selects the action following the same current policy and updates its Q-values, i.e., it avoids repeating the bad direction (direction with extreme low rewards) that has been explored. On the contrary, Q-learning chooses the $\\epsilon$-greedy action, which means it has higher chance of exploring bad directions and therefore obtain lower rewards. Eventually, SARSA selects a more conservative and \n",
    "\n",
    "However, the windy grid world adds more uncertainty and reduces the advantage of SARSA. As a result, SARSA no longer shows apparent better result than Q-learning."
   ]
  },
  {
   "cell_type": "markdown",
   "metadata": {},
   "source": [
    "**Q3.\n",
    "Calculate the average return across the episodes for each environment. It gives a measure of the performance of the algorithm while learning (i.e., online performance).** \n",
    "\n",
    "In grid world, comparing the average length of Q-learning and SARSA, we could see that the length of SARSA is less than Q-learning, which means SARSA takes less average steps to find the optimal path. From this perspective, we regard SARSA as a better solution than Q-learning in this problem.\n",
    "\n",
    "In windy grid world, both algorithms result in long average length. Note that, the average length of SARSA is larger than Q-learning, which is similar to the case in grid world."
   ]
  },
  {
   "cell_type": "markdown",
   "metadata": {},
   "source": [
    "**Q4.\n",
    "Calculate the return after convergence. It gives you a measure of the performance after the learning is completed (i.e., offline performance).**\n",
    "\n",
    "We can observe that after convergence the average length of both algorithms are quite close in grid world, and the length of SARSA is slightly higher than Q-learning, which means the optimal path that Q-learning finds is shorter than SARSA. While taking a look at rewards, SARSA's average rewards are higher, which means the optimal path SARSA finds has higher expected rewards. Comparing both, the optimal path of Q-learning is more risky while SARSA is better on expected rewards.\n",
    "\n",
    "In windy grid world, the average lengths after convergence of two algorithms are also very close. That is to say, their performance are similar in this scenario. What's more, both results are larger than those in grid world, indicating it takes longer path in windy grid world to reach goal state."
   ]
  },
  {
   "cell_type": "markdown",
   "metadata": {},
   "source": [
    "**Q5.\n",
    "Briefly summarize your results.**\n",
    "    \n",
    "To summarize, Q-learning shows lower average rewards and higher length compared with SARSA in grid world enviroment. This is because Q-learning takes more risk to find a shortest, or theoritically best solution. Because it gets higher chance of getting into \"dangerous place\" (such as the cliff in this environment), the expected(average) rewards are smaller.\n",
    "\n",
    "However, the difference between these two algorithms is not so evident in windy grid world, which contains more uncertainty and therefore reduces the advantage of SARSA. Also, it takes more efforts for both algorithms to reach goal state in windy grid world, which is reflected in their lengths and rewards."
   ]
  }
 ],
 "metadata": {
  "kernelspec": {
   "display_name": "Python 3.9.7 ('snowflakes')",
   "language": "python",
   "name": "python3"
  },
  "language_info": {
   "codemirror_mode": {
    "name": "ipython",
    "version": 3
   },
   "file_extension": ".py",
   "mimetype": "text/x-python",
   "name": "python",
   "nbconvert_exporter": "python",
   "pygments_lexer": "ipython3",
   "version": "3.9.7"
  },
  "vscode": {
   "interpreter": {
    "hash": "dda3f27a43699e18fc7fd1e3c1b12071425cc7f8aec43f7460f877765313777c"
   }
  }
 },
 "nbformat": 4,
 "nbformat_minor": 2
}
